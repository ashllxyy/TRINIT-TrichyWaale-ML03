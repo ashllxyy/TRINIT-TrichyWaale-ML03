{
  "nbformat": 4,
  "nbformat_minor": 0,
  "metadata": {
    "colab": {
      "provenance": [],
      "authorship_tag": "ABX9TyO7YUSuN3jp5Jed7H0j6BMX"
    },
    "kernelspec": {
      "name": "python3",
      "display_name": "Python 3"
    },
    "language_info": {
      "name": "python"
    }
  },
  "cells": [
    {
      "cell_type": "code",
      "execution_count": 42,
      "metadata": {
        "id": "VE1wylGiasXD"
      },
      "outputs": [],
      "source": [
        "%pip install -Uq upgini catboost"
      ]
    },
    {
      "cell_type": "code",
      "source": [
        "from os.path import exists\n",
        "import pandas as pd\n",
        "\n",
        "df_path = \"Crop_recommendation.csv\" if exists(\"Crop_recommendation.csv\") else \"https://github.com/ashllxyy/TRINIT-TrichyWaale-ML03/raw/main/Crop_recommendation.csv\"\n",
        "df = pd.read_csv(df_path, on_bad_lines = 'skip')\n",
        "df = df.sample(n = 2_000, random_state=0)\n",
        "\n",
        "df[\"N\"] = df[\"N\"].astype(str)\n",
        "df[\"P\"] = df[\"P\"].astype(str)\n",
        "df[\"K\"] = df[\"K\"].astype(str)\n",
        "df[\"temperature\"] = df[\"temperature\"].astype(str)\n",
        "df[\"humidity\"] = df[\"humidity\"].astype(str)\n",
        "df[\"ph\"] = df[\"ph\"].astype(str)\n",
        "df[\"rainfall\"] = df[\"rainfall\"].astype(str)\n",
        "\n",
        "df.head()\n"
      ],
      "metadata": {
        "id": "gKgpl8MXbIzf"
      },
      "execution_count": null,
      "outputs": []
    },
    {
      "cell_type": "code",
      "source": [
        "from sklearn.preprocessing import LabelEncoder\n",
        "label_encoder = LabelEncoder()\n",
        "df[\"label\"] = label_encoder.fit_transform(df[\"label\"])\n",
        "df.head()"
      ],
      "metadata": {
        "id": "yT6rtvl6_CUO"
      },
      "execution_count": null,
      "outputs": []
    },
    {
      "cell_type": "code",
      "source": [
        "train = df[df[\"temperature\"] < \"22.45145981\"]\n",
        "test = df[df[\"temperature\"] >= \"22.45145981\"]"
      ],
      "metadata": {
        "id": "NOlhLBnNq6yK"
      },
      "execution_count": 45,
      "outputs": []
    },
    {
      "cell_type": "code",
      "source": [
        "train_features = train.drop(columns=[\"label\"])\n",
        "train_target = train[\"label\"]\n",
        "test_features = train.drop(columns=[\"label\"])\n",
        "test_target = train[\"label\"]"
      ],
      "metadata": {
        "id": "Xb4ywdkar6S6"
      },
      "execution_count": 46,
      "outputs": []
    },
    {
      "cell_type": "code",
      "source": [
        "from catboost import CatBoostRegressor\n",
        "from catboost.utils import eval_metric\n",
        "\n",
        "model = CatBoostRegressor(verbose = False, allow_writing_files = False, random_state = 0)"
      ],
      "metadata": {
        "id": "emAjIUlw0Ci3"
      },
      "execution_count": 47,
      "outputs": []
    },
    {
      "cell_type": "code",
      "source": [
        "#@title\n",
        "model.fit(train_features, train_target)\n",
        "preds = model.predict(test_features)\n",
        "eval_metric(test_target.values, preds, \"SMAPE\")"
      ],
      "metadata": {
        "id": "lFFHzyw63BS3"
      },
      "execution_count": null,
      "outputs": []
    }
  ]
}